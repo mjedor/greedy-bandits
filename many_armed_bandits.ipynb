{
 "cells": [
  {
   "cell_type": "markdown",
   "metadata": {},
   "source": [
    "# Many-armed bandits"
   ]
  },
  {
   "cell_type": "markdown",
   "metadata": {},
   "source": [
    "## Import libraries and modules"
   ]
  },
  {
   "cell_type": "code",
   "execution_count": 1,
   "metadata": {},
   "outputs": [],
   "source": [
    "import matplotlib.pyplot as plt\n",
    "import numpy as np\n",
    "from math import ceil, log2"
   ]
  },
  {
   "cell_type": "code",
   "execution_count": 2,
   "metadata": {},
   "outputs": [],
   "source": [
    "from arm.Bernoulli import Bernoulli\n",
    "\n",
    "from algorithm.MOSS import MOSS, SubSampledMOSS\n",
    "from algorithm.Greedy import Greedy, SubSampledGreedy\n",
    "from algorithm.MeDZO import MeDZO_MAB, empMeDZO_MAB\n",
    "\n",
    "from environment.MAB import MAB, EvaluationMAB"
   ]
  },
  {
   "cell_type": "markdown",
   "metadata": {},
   "source": [
    "## Experimental setup"
   ]
  },
  {
   "cell_type": "code",
   "execution_count": 3,
   "metadata": {},
   "outputs": [],
   "source": [
    "np.random.seed(1234)\n",
    "\n",
    "nb_rep = 10\n",
    "scenario = 1\n",
    "\n",
    "if scenario == 1:\n",
    "    K = 2000\n",
    "    horizon = 5000\n",
    "    \n",
    "    alpha = 0.4\n",
    "    m = ceil(K / horizon**alpha)\n",
    "    means = [0.9] * m\n",
    "    temp = (K - m) // 5\n",
    "    means += [0.5, 0.4, 0.3, 0.2, 0.1] * temp\n",
    "    for i in range(K - len(means)):\n",
    "        means += [np.random.choice([0.5, 0.4, 0.3, 0.2, 0.1])]\n",
    "    np.random.shuffle(means)\n",
    "    env = MAB([Bernoulli(p) for p in means])"
   ]
  },
  {
   "cell_type": "markdown",
   "metadata": {},
   "source": [
    "## Compare various algorithms"
   ]
  },
  {
   "cell_type": "code",
   "execution_count": 4,
   "metadata": {},
   "outputs": [],
   "source": [
    "algorithms = [MOSS(K, horizon, c=1), \n",
    "              SubSampledMOSS(K, ceil(horizon**alpha * np.log(np.sqrt(horizon))), horizon, c=1),  \n",
    "              Greedy(K),\n",
    "              #SubSampledGreedy(K, ceil(((1-alpha)*horizon**(1+alpha)*np.log(horizon)/8)**(1/2)))]\n",
    "              SubSampledGreedy(K, ceil((1-2*alpha)*horizon**(2*alpha)*np.log(horizon)/(4)))]#,\n",
    "              #MeDZO_MAB(K, horizon, c=1), \n",
    "              #empMeDZO_MAB(K, horizon, c=1)]"
   ]
  },
  {
   "cell_type": "code",
   "execution_count": 5,
   "metadata": {},
   "outputs": [
    {
     "name": "stdout",
     "output_type": "stream",
     "text": [
      "Start evaluation of MOSS\n",
      "0\n",
      "1\n",
      "2\n",
      "3\n",
      "4\n",
      "5\n",
      "6\n",
      "7\n",
      "8\n",
      "9\n",
      "Regret of MOSS : 2450.2299999999545 +- 61.74528403045136 \n",
      "\n",
      "Start evaluation of SubSampledMOSS\n",
      "0\n",
      "1\n",
      "2\n",
      "3\n",
      "4\n",
      "5\n",
      "6\n",
      "7\n",
      "8\n",
      "9\n",
      "Regret of SubSampledMOSS : 470.7399999997133 +- 14.967645105361285 \n",
      "\n",
      "Start evaluation of Greedy\n",
      "0\n",
      "1\n",
      "2\n",
      "3\n",
      "4\n",
      "5\n",
      "6\n",
      "7\n",
      "8\n",
      "9\n",
      "Regret of Greedy : 1634.3399999998292 +- 17.360195851432422 \n",
      "\n",
      "Start evaluation of SubSampledGreedy\n",
      "0\n",
      "1\n",
      "2\n",
      "3\n",
      "4\n",
      "5\n",
      "6\n",
      "7\n",
      "8\n",
      "9\n",
      "Regret of SubSampledGreedy : 318.02999999974327 +- 11.89521332300865 \n",
      "\n"
     ]
    },
    {
     "data": {
      "image/png": "[encoded data removed]",
      "text/plain": [
       "<Figure size 432x288 with 1 Axes>"
      ]
     },
     "metadata": {
      "needs_background": "light"
     },
     "output_type": "display_data"
    }
   ],
   "source": [
    "plt.figure()\n",
    "\n",
    "for algo in algorithms:\n",
    "    print('Start evaluation of', algo.__class__.__name__)\n",
    "    ev = EvaluationMAB(env, algo, nb_rep, horizon)\n",
    "    mean_regret = ev.mean_regret()\n",
    "    std_regret = ev.std_regret()\n",
    "    print('Regret of', algo.__class__.__name__, ':', mean_regret[-1], '+-', std_regret[-1], '\\n')\n",
    "    \n",
    "    \n",
    "    plt.plot(ev.tsav, mean_regret)\n",
    "    #plt.fill_between(ev.tsav, mean_regret-std_regret, mean_regret+std_regret, alpha=.2)\n",
    "    plt.xlabel('Time')\n",
    "    plt.ylabel('Regret')\n",
    "\n",
    "plt.legend([algo.__class__.__name__ for algo in algorithms], loc=0)\n",
    "plt.show()"
   ]
  },
  {
   "cell_type": "code",
   "execution_count": null,
   "metadata": {},
   "outputs": [],
   "source": []
  }
 ],
 "metadata": {
  "kernelspec": {
   "display_name": "Python 3",
   "language": "python",
   "name": "python3"
  },
  "language_info": {
   "codemirror_mode": {
    "name": "ipython",
    "version": 3
   },
   "file_extension": ".py",
   "mimetype": "text/x-python",
   "name": "python",
   "nbconvert_exporter": "python",
   "pygments_lexer": "ipython3",
   "version": "3.8.3"
  }
 },
 "nbformat": 4,
 "nbformat_minor": 2
}
