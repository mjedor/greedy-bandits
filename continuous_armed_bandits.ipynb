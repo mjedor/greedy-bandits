{
 "cells": [
  {
   "cell_type": "markdown",
   "metadata": {},
   "source": [
    "# Continuous-armed bandits"
   ]
  },
  {
   "cell_type": "markdown",
   "metadata": {},
   "source": [
    "## Import libraries and modules"
   ]
  },
  {
   "cell_type": "code",
   "execution_count": 1,
   "metadata": {},
   "outputs": [],
   "source": [
    "import numpy as np\n",
    "import matplotlib.pyplot as plt\n",
    "\n",
    "import time\n",
    "from math import ceil, sin, fabs, sqrt, log"
   ]
  },
  {
   "cell_type": "code",
   "execution_count": 2,
   "metadata": {},
   "outputs": [],
   "source": [
    "from environment.CAB import CAB, EvaluationCAB\n",
    "\n",
    "from algorithm.MOSS import CAB_MOSS\n",
    "from algorithm.Greedy import CAB_Greedy\n",
    "from algorithm.MeDZO import MeDZO, empMeDZO\n",
    "from algorithm.Zooming import Zooming"
   ]
  },
  {
   "cell_type": "markdown",
   "metadata": {},
   "source": [
    "## Experimental setup"
   ]
  },
  {
   "cell_type": "code",
   "execution_count": 3,
   "metadata": {},
   "outputs": [],
   "source": [
    "scenario = 1\n",
    "nb_rep = 10\n",
    "horizon = 100000\n",
    "noise = 1"
   ]
  },
  {
   "cell_type": "code",
   "execution_count": 4,
   "metadata": {},
   "outputs": [],
   "source": [
    "if scenario == 1:\n",
    "    alpha = 2\n",
    "    L = 220.3303193003303\n",
    "    def f(x):\n",
    "        return 0.5 * (sin(13*x) * sin(27*x)) + 0.5\n",
    "elif scenario == 2:\n",
    "    alpha = 1\n",
    "    L = 1 / 0.05\n",
    "    def f(x):\n",
    "        return max(3.6 * x * (1-x), 1 - 1/0.05*fabs(x-0.05))\n",
    "elif scenario == 3:\n",
    "    alpha = 0.5\n",
    "    L = 2\n",
    "    def f(x):\n",
    "        return x * (1-x) * (4 - sqrt(fabs(sin(60*x))))\n",
    "    \n",
    "env = CAB(f, noise)"
   ]
  },
  {
   "cell_type": "markdown",
   "metadata": {},
   "source": [
    "## Compare various algorithms"
   ]
  },
  {
   "cell_type": "code",
   "execution_count": 5,
   "metadata": {},
   "outputs": [],
   "source": [
    "algorithms = [CAB_MOSS(min(ceil(L**(2/(2*alpha+1))*horizon**(1/(2*alpha+1))), horizon), horizon),\n",
    "              CAB_Greedy(min(ceil(sqrt(4/3*horizon*log(horizon))), horizon)), \n",
    "              MeDZO(horizon, sqrt(horizon))]#, \n",
    "              #empMeDZO(horizon, sqrt(horizon)), \n",
    "              #Zooming(horizon, L=L, alpha=alpha)]"
   ]
  },
  {
   "cell_type": "code",
   "execution_count": 6,
   "metadata": {},
   "outputs": [
    {
     "name": "stdout",
     "output_type": "stream",
     "text": [
      "Start evaluation of CAB_MOSS\n",
      "0\n",
      "1\n",
      "2\n",
      "3\n",
      "4\n",
      "5\n",
      "6\n",
      "7\n",
      "8\n",
      "9\n",
      "Regret of CAB_MOSS : 3129.859257186239 +- 143.90100020189382 \n",
      "\n",
      "Start evaluation of CAB_Greedy\n",
      "0\n",
      "1\n",
      "2\n",
      "3\n",
      "4\n",
      "5\n",
      "6\n",
      "7\n",
      "8\n",
      "9\n",
      "Regret of CAB_Greedy : 1983.868908239252 +- 1026.7753243245531 \n",
      "\n",
      "Start evaluation of MeDZO\n",
      "0\n",
      "1\n",
      "2\n",
      "3\n",
      "4\n",
      "5\n",
      "6\n",
      "7\n",
      "8\n",
      "9\n",
      "Regret of MeDZO : 8256.042773854235 +- 347.3352099253665 \n",
      "\n"
     ]
    },
    {
     "data": {
      "image/png": "[encoded data removed]",
      "text/plain": [
       "<Figure size 432x288 with 1 Axes>"
      ]
     },
     "metadata": {
      "needs_background": "light"
     },
     "output_type": "display_data"
    },
    {
     "name": "stdout",
     "output_type": "stream",
     "text": [
      "--- 207.50835490226746 seconds ---\n"
     ]
    }
   ],
   "source": [
    "start_time = time.time()\n",
    "\n",
    "plt.figure()\n",
    "for algo in algorithms:\n",
    "    print('Start evaluation of', algo.__class__.__name__)\n",
    "    ev = EvaluationCAB(env, algo, nb_rep, horizon)\n",
    "    mean_regret = ev.mean_regret()\n",
    "    std_regret = ev.std_regret()\n",
    "    print('Regret of', algo.__class__.__name__, ':', mean_regret[-1], '+-', std_regret[-1], '\\n')\n",
    "    \n",
    "    plt.plot(np.arange(horizon), mean_regret)\n",
    "    #plt.fill_between(np.arange(horizon), mean_regret-std_regret, mean_regret+std_regret, alpha=.2)\n",
    "    plt.xlabel('Time')\n",
    "    plt.ylabel('Regret')\n",
    "\n",
    "plt.legend([algo.__class__.__name__ for algo in algorithms], loc=0)\n",
    "plt.show()\n",
    "\n",
    "print(\"--- %s seconds ---\" % (time.time() - start_time))"
   ]
  },
  {
   "cell_type": "code",
   "execution_count": null,
   "metadata": {},
   "outputs": [],
   "source": []
  }
 ],
 "metadata": {
  "kernelspec": {
   "display_name": "Python 3",
   "language": "python",
   "name": "python3"
  },
  "language_info": {
   "codemirror_mode": {
    "name": "ipython",
    "version": 3
   },
   "file_extension": ".py",
   "mimetype": "text/x-python",
   "name": "python",
   "nbconvert_exporter": "python",
   "pygments_lexer": "ipython3",
   "version": "3.8.3"
  }
 },
 "nbformat": 4,
 "nbformat_minor": 2
}
