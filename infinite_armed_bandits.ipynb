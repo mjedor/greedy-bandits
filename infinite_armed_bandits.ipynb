{
 "cells": [
  {
   "cell_type": "markdown",
   "metadata": {},
   "source": [
    "# Infinite-armed bandit problems"
   ]
  },
  {
   "cell_type": "markdown",
   "metadata": {},
   "source": [
    "## Import libraries and modules"
   ]
  },
  {
   "cell_type": "code",
   "execution_count": 1,
   "metadata": {},
   "outputs": [],
   "source": [
    "import numpy as np\n",
    "import matplotlib.pyplot as plt\n",
    "\n",
    "import time\n",
    "from math import ceil, sqrt, log, floor, log2"
   ]
  },
  {
   "cell_type": "code",
   "execution_count": 2,
   "metadata": {},
   "outputs": [],
   "source": [
    "from arm.Bernoulli import Bernoulli\n",
    "from arm.Gaussian import Gaussian\n",
    "\n",
    "from algorithm.Greedy import SubSampledGreedy\n",
    "from algorithm.MeDZO import MeDZO_IAB, empMeDZO_IAB\n",
    "from algorithm.TwoTarget import TwoTarget\n",
    "from algorithm.UCBF import UCBF\n",
    "\n",
    "from environment.MAB import MAB\n",
    "from environment.BayesMAB import EvaluationBayesMAB"
   ]
  },
  {
   "cell_type": "markdown",
   "metadata": {},
   "source": [
    "## Experimental setup"
   ]
  },
  {
   "cell_type": "code",
   "execution_count": 3,
   "metadata": {},
   "outputs": [],
   "source": [
    "np.random.seed(1234)\n",
    "\n",
    "nb_rep = 10\n",
    "scenario = 1\n",
    "horizon = 10000\n",
    "K = horizon\n",
    "tsav = []\n",
    "\n",
    "if scenario == 0:\n",
    "    # Bernoulli bandit problems with U([0, 1]) prior on mean rewards\n",
    "    alpha = 1\n",
    "    beta = 1\n",
    "    beta_greedy = 1\n",
    "    envs = []\n",
    "    for _ in range(nb_rep):\n",
    "        means = np.random.beta(1, 1, K)\n",
    "        envs += [MAB([Bernoulli(p) for p in means])]\n",
    "elif scenario == 1:\n",
    "    # Bernoulli bandit problems with Beta(1, 2) prior on mean rewards\n",
    "    alpha = 2\n",
    "    beta = 1\n",
    "    beta_greedy = 2\n",
    "    envs = []\n",
    "    for _ in range(nb_rep):\n",
    "        means = np.random.beta(1, 2, K)\n",
    "        envs += [MAB([Bernoulli(p) for p in means])]"
   ]
  },
  {
   "cell_type": "markdown",
   "metadata": {},
   "source": [
    "## Compare various algorithms"
   ]
  },
  {
   "cell_type": "code",
   "execution_count": 4,
   "metadata": {},
   "outputs": [],
   "source": [
    "algorithms = [UCBF(horizon, beta=1),\n",
    "              SubSampledGreedy(K, ceil((2/3)**((2+beta_greedy)/(4+beta_greedy))\n",
    "                                       *(8)**(2/(4+beta_greedy))\n",
    "                                       *(4+beta_greedy)**(-2/(4+beta_greedy))\n",
    "                                       *horizon**((2+beta_greedy)/(4+beta_greedy))\n",
    "                                       *log(horizon)**(2/(4+beta_greedy)))), \n",
    "              TwoTarget(horizon, 3, alpha=alpha, beta=beta)]\n",
    "              #MeDZO_IAB(horizon, sqrt(horizon), c=1),\n",
    "              #empMeDZO_IAB(horizon, sqrt(horizon), c=1)]"
   ]
  },
  {
   "cell_type": "code",
   "execution_count": 5,
   "metadata": {},
   "outputs": [
    {
     "name": "stdout",
     "output_type": "stream",
     "text": [
      "Start evaluation of UCBF\n",
      "0\n",
      "1\n",
      "2\n",
      "3\n",
      "4\n",
      "5\n",
      "6\n",
      "7\n",
      "8\n",
      "9\n",
      "Regret of UCBF : 4383.882483291336 +- 304.1501282383499 \n",
      "\n",
      "Start evaluation of SubSampledGreedy\n",
      "0\n",
      "1\n",
      "2\n",
      "3\n",
      "4\n",
      "5\n",
      "6\n",
      "7\n",
      "8\n",
      "9\n",
      "Regret of SubSampledGreedy : 1101.5455052279704 +- 200.51459484024713 \n",
      "\n",
      "Start evaluation of TwoTarget\n",
      "0\n",
      "1\n",
      "2\n",
      "3\n",
      "4\n",
      "5\n",
      "6\n",
      "7\n",
      "8\n",
      "9\n",
      "Regret of TwoTarget : 3973.134114569737 +- 1084.4305956907895 \n",
      "\n"
     ]
    },
    {
     "data": {
      "image/png": "[encoded data removed]",
      "text/plain": [
       "<Figure size 432x288 with 1 Axes>"
      ]
     },
     "metadata": {
      "needs_background": "light"
     },
     "output_type": "display_data"
    }
   ],
   "source": [
    "plt.figure()\n",
    "\n",
    "for algo in algorithms:\n",
    "    print('Start evaluation of', algo.__class__.__name__)\n",
    "    ev = EvaluationBayesMAB(envs, algo, horizon, tsav)\n",
    "    mean_regret = ev.mean_regret()\n",
    "    std_regret = ev.std_regret()\n",
    "    print('Regret of', algo.__class__.__name__, ':', mean_regret[-1], '+-', std_regret[-1], '\\n')\n",
    "    \n",
    "    \n",
    "    plt.plot(ev.tsav, mean_regret)\n",
    "    #plt.fill_between(ev.tsav, mean_regret-std_regret, mean_regret+std_regret, alpha=.2)\n",
    "    plt.xlabel('Time')\n",
    "    plt.ylabel('Regret')\n",
    "\n",
    "plt.legend([algo.__class__.__name__ for algo in algorithms], loc=0)\n",
    "plt.show()"
   ]
  },
  {
   "cell_type": "code",
   "execution_count": null,
   "metadata": {},
   "outputs": [],
   "source": []
  },
  {
   "cell_type": "code",
   "execution_count": null,
   "metadata": {},
   "outputs": [],
   "source": []
  }
 ],
 "metadata": {
  "kernelspec": {
   "display_name": "Python 3",
   "language": "python",
   "name": "python3"
  },
  "language_info": {
   "codemirror_mode": {
    "name": "ipython",
    "version": 3
   },
   "file_extension": ".py",
   "mimetype": "text/x-python",
   "name": "python",
   "nbconvert_exporter": "python",
   "pygments_lexer": "ipython3",
   "version": "3.8.3"
  }
 },
 "nbformat": 4,
 "nbformat_minor": 2
}
