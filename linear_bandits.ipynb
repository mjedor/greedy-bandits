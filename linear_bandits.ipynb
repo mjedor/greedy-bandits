{
 "cells": [
  {
   "cell_type": "markdown",
   "metadata": {},
   "source": [
    "# Linear bandits"
   ]
  },
  {
   "cell_type": "markdown",
   "metadata": {},
   "source": [
    "## Import libraries"
   ]
  },
  {
   "cell_type": "code",
   "execution_count": 1,
   "metadata": {},
   "outputs": [],
   "source": [
    "import numpy as np\n",
    "import matplotlib.pyplot as plt\n",
    "from scipy.optimize import minimize\n",
    "import time\n",
    "import random"
   ]
  },
  {
   "cell_type": "markdown",
   "metadata": {},
   "source": [
    "## Environment"
   ]
  },
  {
   "cell_type": "code",
   "execution_count": 2,
   "metadata": {},
   "outputs": [],
   "source": [
    "class ResultLB:\n",
    "    def __init__(self, horizon):\n",
    "        self.rewards = np.zeros(horizon)\n",
    "\n",
    "    def store(self, t, reward):\n",
    "        self.rewards[t] = reward"
   ]
  },
  {
   "cell_type": "code",
   "execution_count": 3,
   "metadata": {},
   "outputs": [],
   "source": [
    "class LB:\n",
    "    def __init__(self, theta, sigma_2=1):\n",
    "        self.theta = theta\n",
    "        self.sigma_2 = sigma_2\n",
    "\n",
    "    def play(self, algo, horizon):\n",
    "        result = ResultLB(horizon)\n",
    "        algo.start_game()\n",
    "        for t in range(horizon):\n",
    "            choice = algo.choice()\n",
    "            expected_reward = np.dot(choice, self.theta)\n",
    "            reward = expected_reward + random.gauss(0, np.sqrt(self.sigma_2))\n",
    "            algo.get_reward(reward)\n",
    "            result.store(t, expected_reward)\n",
    "    \n",
    "        return result "
   ]
  },
  {
   "cell_type": "code",
   "execution_count": 4,
   "metadata": {},
   "outputs": [],
   "source": [
    "def oracle(x, theta):\n",
    "    return - np.dot(x, theta)\n",
    "\n",
    "\n",
    "class EvaluationBayesLB:\n",
    "    def __init__(self, envs, algo, horizon, tsav=[]):\n",
    "        if len(tsav) > 0:\n",
    "            self.tsav = tsav\n",
    "        else:\n",
    "            self.tsav = np.arange(horizon)\n",
    "        \n",
    "        self.nb_repetitions = len(envs)\n",
    "        self.cum_reward = np.zeros((self.nb_repetitions, len(self.tsav)))\n",
    "        self.oracle = np.zeros((self.nb_repetitions, len(self.tsav)))\n",
    "\n",
    "        for k in range(self.nb_repetitions):\n",
    "            if self.nb_repetitions < 10 or k % (self.nb_repetitions / 10) == 0:\n",
    "                print(k)\n",
    "                \n",
    "            result = envs[k].play(algo, horizon)\n",
    "            self.cum_reward[k, :] = np.cumsum(result.rewards)[self.tsav]\n",
    "            \n",
    "            d = len(envs[k].theta)\n",
    "            cons = ({'type': 'ineq', 'fun': lambda x: 1 - np.linalg.norm(x)})\n",
    "            bnds = [(-1,1)] * d\n",
    "            \n",
    "            res = minimize(oracle, \n",
    "                           2 / np.sqrt(d) * np.random.rand(d) - 1 / np.sqrt(d),\n",
    "                           args=envs[k].theta,\n",
    "                           bounds=bnds, \n",
    "                           constraints=cons)\n",
    "        \n",
    "            self.oracle[k, :] = (1 + self.tsav) * (-res.fun)\n",
    "        \n",
    "    def std_regret(self):\n",
    "        return np.std(self.oracle - self.cum_reward, 0)\n",
    "\n",
    "    def mean_regret(self):\n",
    "        return np.mean(self.oracle, 0) - np.mean(self.cum_reward, 0)"
   ]
  },
  {
   "cell_type": "markdown",
   "metadata": {},
   "source": [
    "## Algorithms"
   ]
  },
  {
   "cell_type": "code",
   "execution_count": 5,
   "metadata": {},
   "outputs": [],
   "source": [
    "class LinUCB:\n",
    "    \"\"\"\n",
    "        Ref: Improved algorithms for linear stochastic bandits. Abbasi-Yadkori, Y., Pál, D., & Szepesvári, C. (2011). \n",
    "    \"\"\"\n",
    "    \n",
    "    def __init__(self, d, delta, lambd, m_2=1, L=1):\n",
    "        self.delta = delta\n",
    "        self.lambd = lambd\n",
    "        self.d = d\n",
    "        self.m_2 = m_2\n",
    "        self.L = L\n",
    "\n",
    "    def start_game(self):\n",
    "        self.t = 1\n",
    "        self.rewards = []\n",
    "        self.chosen_arms = []\n",
    "\n",
    "    def objective(self, x):\n",
    "        a = x[:self.d]\n",
    "        theta = x[self.d:]\n",
    "        return - np.dot(a, theta)\n",
    "        \n",
    "    def choice(self):\n",
    "        if self.t == 1:\n",
    "            choice = 2 * np.random.rand(self.d) - 1\n",
    "            choice = choice / np.linalg.norm(choice)\n",
    "            self.chosen_arms += [choice]\n",
    "            return choice\n",
    "        \n",
    "        ## Compute theta\n",
    "        V = self.lambd * np.eye(self.d)\n",
    "        theta = np.zeros(self.d)\n",
    "        for s in range(self.t-1):\n",
    "            a = self.chosen_arms[s][np.newaxis]\n",
    "            V += np.dot(a.T, a)\n",
    "            theta += self.chosen_arms[s] * self.rewards[s]\n",
    "        inv_V = np.linalg.inv(V)\n",
    "        theta = np.dot(inv_V, theta)\n",
    "        \n",
    "        ## Compute sqrt_beta\n",
    "        sqrt_beta = (np.sqrt(self.lambd) * self.m_2 + \n",
    "                     np.sqrt(2 * np.log(1 / self.delta) + \n",
    "                             self.d * np.log((self.d * self.lambd + self.t * self.L**2) / (self.d * self.lambd))))\n",
    "        \n",
    "        cons = ({'type': 'ineq', 'fun': lambda x: 1 - np.linalg.norm(x[:self.d])},\n",
    "                {'type': 'ineq', 'fun': lambda x: sqrt_beta**2 - \n",
    "                 ((x[self.d:]-theta)[np.newaxis] @ V @ (x[self.d:]-theta)[np.newaxis].T)[0, 0]})\n",
    "        bnds = [(-1,1)] * self.d + [(-5, 5)] * self.d\n",
    "        a0 = 2 * np.random.rand(self.d) - 1\n",
    "        a0 = a0 / np.linalg.norm(a0)\n",
    "        x0 = np.concatenate((a0, theta))\n",
    "        \n",
    "        res = minimize(self.objective, x0, bounds=bnds, constraints=cons, tol=1e-2)\n",
    "        choice = res.x[:self.d]\n",
    "        \n",
    "        if not res.success:\n",
    "            #print('Error', self.t)\n",
    "            choice = 2 * np.random.rand(self.d) - 1\n",
    "            choice = choice / np.linalg.norm(choice)\n",
    "        self.chosen_arms += [choice]\n",
    "        return choice\n",
    "        \n",
    "    def get_reward(self, reward):\n",
    "        self.rewards += [reward]\n",
    "        self.t += 1"
   ]
  },
  {
   "cell_type": "code",
   "execution_count": 6,
   "metadata": {},
   "outputs": [],
   "source": [
    "class BallExplore:\n",
    "    \"\"\"\n",
    "        Ref: Linear bandits in high dimension and recommendation systems. Deshpande, Y., & Montanari, A. (2012).\n",
    "    \"\"\"\n",
    "    \n",
    "    def __init__(self, d, sigma_2=1, delta=0):\n",
    "        self.d = d\n",
    "        self.sigma_2 = sigma_2\n",
    "        if delta == 0:\n",
    "            self.delta = d\n",
    "        else:\n",
    "            self.delta = delta\n",
    "\n",
    "    def start_game(self):\n",
    "        self.t = 1\n",
    "        self.theta = np.zeros(self.d)\n",
    "        self.sigma = np.eye(self.d) / self.d\n",
    "        temp = np.zeros(self.d)\n",
    "        temp[0] = 1\n",
    "        self.P = np.eye(self.d) - temp[np.newaxis].T @ temp[np.newaxis]\n",
    "        \n",
    "        self.rewards = []\n",
    "        self.chosen_arms = []\n",
    "\n",
    "    def choice(self):\n",
    "        if self.t == 1:\n",
    "            x_tilda = np.zeros(self.d)\n",
    "            x_tilda[0] = 1\n",
    "        else:\n",
    "            x_tilda = self.theta / np.linalg.norm(self.theta)\n",
    "        \n",
    "        beta = np.sqrt(2/3) * min(self.d * self.delta / self.t, 1)**(1/4)\n",
    "        \n",
    "        u = np.random.rand(self.d)\n",
    "        u /= np.linalg.norm(u)\n",
    "    \n",
    "        choice = np.sqrt(1 - beta**2) * x_tilda + beta * self.P @ u\n",
    "        \n",
    "        self.chosen_arms += [choice]\n",
    "        return choice\n",
    "        \n",
    "    def get_reward(self, reward):\n",
    "        self.rewards += [reward]\n",
    "        self.t += 1\n",
    "        \n",
    "        # Update theta\n",
    "        bnds = [(-1,1)] * self.d\n",
    "        res = minimize(self.objective, self.theta, bounds=bnds, tol=1e-4)\n",
    "        self.theta = res.x\n",
    "        \n",
    "        # Update P\n",
    "        self.P = np.eye(self.d) - self.theta[np.newaxis].T @ self.theta[np.newaxis] / (np.linalg.norm(theta)**2)\n",
    "        \n",
    "    def objective(self, theta):\n",
    "        temp = 0\n",
    "        for s in range(self.t-1):\n",
    "            temp += (self.rewards[s] - np.dot(self.chosen_arms[s], theta))**2\n",
    "        return temp / (2 * self.sigma_2) + np.linalg.norm(theta)**2 / (2 * self.d)"
   ]
  },
  {
   "cell_type": "code",
   "execution_count": 7,
   "metadata": {},
   "outputs": [],
   "source": [
    "class LinGreedy:\n",
    "    def __init__(self, d, lambd=0):\n",
    "        self.lambd = lambd\n",
    "        self.d = d\n",
    "\n",
    "    def start_game(self):\n",
    "        self.t = 1\n",
    "        self.rewards = []\n",
    "        self.chosen_arms = []\n",
    "\n",
    "    def objective(self, x, theta):\n",
    "        return - np.dot(x, theta)\n",
    "        \n",
    "    def choice(self):\n",
    "        if self.t == 1:\n",
    "            choice = 2 * np.random.rand(self.d) - 1\n",
    "            choice = choice / np.linalg.norm(choice)\n",
    "            self.chosen_arms += [choice]\n",
    "            return choice\n",
    "        \n",
    "        ## Compute theta\n",
    "        V = self.lambd * np.eye(self.d)\n",
    "        theta = np.zeros(self.d)\n",
    "        for s in range(self.t-1):\n",
    "            a = self.chosen_arms[s][np.newaxis]\n",
    "            V += np.dot(a.T, a)\n",
    "            theta += self.chosen_arms[s] * self.rewards[s]\n",
    "        inv_V = np.linalg.pinv(V)\n",
    "        theta = np.dot(inv_V, theta)\n",
    "        \n",
    "        cons = ({'type': 'ineq', 'fun': lambda x: 1 - np.linalg.norm(x[:self.d])})\n",
    "        bnds = [(-1,1)] * (self.d)\n",
    "        a0 = 2 * np.random.rand(self.d) -1\n",
    "        a0 = a0 / np.linalg.norm(a0)\n",
    "        res = minimize(self.objective, a0, args=(theta), bounds=bnds, constraints=cons, tol=1e-4)\n",
    "        #res = minimize(self.objective, a0, args=(theta), bounds=bnds, constraints=cons)\n",
    "        choice = res.x\n",
    "        \n",
    "        if not res.success:\n",
    "            #print('Error', self.t)\n",
    "            choice = 2 * np.random.rand(self.d) - 1\n",
    "            choice = choice / np.linalg.norm(choice)\n",
    "        self.chosen_arms += [choice]\n",
    "        return choice\n",
    "        \n",
    "    def get_reward(self, reward):\n",
    "        self.rewards += [reward]\n",
    "        self.t += 1"
   ]
  },
  {
   "cell_type": "markdown",
   "metadata": {},
   "source": [
    "## Experimental setup"
   ]
  },
  {
   "cell_type": "code",
   "execution_count": 8,
   "metadata": {},
   "outputs": [],
   "source": [
    "scenario = 0\n",
    "nb_rep = 10"
   ]
  },
  {
   "cell_type": "code",
   "execution_count": 9,
   "metadata": {},
   "outputs": [],
   "source": [
    "np.random.seed(1234)\n",
    "\n",
    "if scenario == 0:\n",
    "    horizon = 2500\n",
    "    d = 50\n",
    "    noise = 1\n",
    "    envs = []\n",
    "    for _ in range(nb_rep):\n",
    "        theta = 2 * np.random.rand(d) - 1\n",
    "        theta = theta / np.linalg.norm(theta)\n",
    "        envs += [LB(theta, noise)]"
   ]
  },
  {
   "cell_type": "markdown",
   "metadata": {},
   "source": [
    "## Compare various algorithms"
   ]
  },
  {
   "cell_type": "code",
   "execution_count": 10,
   "metadata": {},
   "outputs": [],
   "source": [
    "algorithms = [LinUCB(d, 1/horizon, 1), \n",
    "              LinGreedy(d, lambd=1),\n",
    "              BallExplore(d)]"
   ]
  },
  {
   "cell_type": "code",
   "execution_count": 11,
   "metadata": {
    "scrolled": false
   },
   "outputs": [
    {
     "name": "stdout",
     "output_type": "stream",
     "text": [
      "Start evaluation of LinUCB\n",
      "0\n",
      "1\n",
      "2\n",
      "3\n",
      "4\n",
      "5\n",
      "6\n",
      "7\n",
      "8\n",
      "9\n",
      "Regret of LinUCB : 2038.3204013293428 +- 62.870923898144504 obtained in 15076.667483568192 seconds \n",
      "\n",
      "Start evaluation of LinGreedy\n",
      "0\n",
      "1\n",
      "2\n",
      "3\n",
      "4\n",
      "5\n",
      "6\n",
      "7\n",
      "8\n",
      "9\n",
      "Regret of LinGreedy : 1774.6994098762025 +- 149.49140247226583 obtained in 1331.7040519714355 seconds \n",
      "\n",
      "Start evaluation of BallExplore\n",
      "0\n",
      "1\n",
      "2\n",
      "3\n",
      "4\n",
      "5\n",
      "6\n",
      "7\n",
      "8\n",
      "9\n",
      "Regret of BallExplore : 1847.261423736526 +- 207.36551433934918 obtained in 61609.31638932228 seconds \n",
      "\n"
     ]
    },
    {
     "data": {
      "image/png": "[encoded data removed]",
      "text/plain": [
       "<Figure size 432x288 with 1 Axes>"
      ]
     },
     "metadata": {
      "needs_background": "light"
     },
     "output_type": "display_data"
    }
   ],
   "source": [
    "plt.figure()\n",
    "\n",
    "for algo in algorithms:\n",
    "    print('Start evaluation of', algo.__class__.__name__)\n",
    "    start_time = time.time()\n",
    "    ev = EvaluationBayesLB(envs, algo, horizon)\n",
    "    mean_regret = ev.mean_regret()\n",
    "    std_regret = ev.std_regret()\n",
    "    print('Regret of', algo.__class__.__name__, ':', mean_regret[-1], '+-', std_regret[-1], \n",
    "          'obtained in', time.time() - start_time, 'seconds \\n')\n",
    "    \n",
    "    plt.plot(np.arange(horizon), mean_regret)\n",
    "    #plt.fill_between(np.arange(horizon), mean_regret-std_regret, mean_regret+std_regret, alpha=.2)\n",
    "    plt.xlabel('Time')\n",
    "    plt.ylabel('Regret')\n",
    "\n",
    "plt.legend([algo.__class__.__name__ for algo in algorithms], loc=0)\n",
    "plt.show()"
   ]
  },
  {
   "cell_type": "code",
   "execution_count": null,
   "metadata": {},
   "outputs": [],
   "source": []
  },
  {
   "cell_type": "code",
   "execution_count": null,
   "metadata": {},
   "outputs": [],
   "source": []
  }
 ],
 "metadata": {
  "kernelspec": {
   "display_name": "Python 3",
   "language": "python",
   "name": "python3"
  },
  "language_info": {
   "codemirror_mode": {
    "name": "ipython",
    "version": 3
   },
   "file_extension": ".py",
   "mimetype": "text/x-python",
   "name": "python",
   "nbconvert_exporter": "python",
   "pygments_lexer": "ipython3",
   "version": "3.8.3"
  }
 },
 "nbformat": 4,
 "nbformat_minor": 2
}
