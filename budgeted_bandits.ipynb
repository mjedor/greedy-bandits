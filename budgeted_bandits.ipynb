{
 "cells": [
  {
   "cell_type": "markdown",
   "metadata": {},
   "source": [
    "# Budgeted bandits"
   ]
  },
  {
   "cell_type": "markdown",
   "metadata": {},
   "source": [
    "## Import libraries"
   ]
  },
  {
   "cell_type": "code",
   "execution_count": 1,
   "metadata": {},
   "outputs": [],
   "source": [
    "import numpy as np\n",
    "import random\n",
    "import time"
   ]
  },
  {
   "cell_type": "code",
   "execution_count": 2,
   "metadata": {},
   "outputs": [],
   "source": [
    "from posterior.Beta import Beta as BetaPosterior"
   ]
  },
  {
   "cell_type": "markdown",
   "metadata": {},
   "source": [
    "## Environment"
   ]
  },
  {
   "cell_type": "code",
   "execution_count": 3,
   "metadata": {},
   "outputs": [],
   "source": [
    "class Bernoulli:\n",
    "    \"\"\" Bernoulli distributed arm \"\"\"\n",
    "\n",
    "    def __init__(self, expectation, cost):\n",
    "        self.expectation = expectation\n",
    "        self.cost = cost\n",
    "        \n",
    "    def draw(self):\n",
    "        return float(random.random() < self.expectation), float(random.random() < self.cost)"
   ]
  },
  {
   "cell_type": "code",
   "execution_count": 4,
   "metadata": {},
   "outputs": [],
   "source": [
    "class Beta:\n",
    "    \"\"\" Beta distributed arm \"\"\"\n",
    "\n",
    "    def __init__(self, a_reward, b_reward, a_cost, b_cost):\n",
    "        self.a_reward = a_reward\n",
    "        self.b_reward = b_reward\n",
    "        self.expectation = a_reward / (a_reward + b_reward)\n",
    "        self.a_cost = a_cost\n",
    "        self.b_cost = b_cost\n",
    "        self.cost = a_cost / (a_cost + b_cost)\n",
    "        \n",
    "    def draw(self):\n",
    "        return random.betavariate(self.a_reward, self.b_reward), random.betavariate(self.a_cost, self.b_cost)"
   ]
  },
  {
   "cell_type": "code",
   "execution_count": 5,
   "metadata": {},
   "outputs": [],
   "source": [
    "class ResultBudgetedMAB:\n",
    "    def __init__(self):\n",
    "        self.rewards = []\n",
    "        self.costs = []\n",
    "\n",
    "    def store(self, reward, cost):\n",
    "        self.rewards += [reward]\n",
    "        self.costs += [cost]\n",
    "    \n",
    "\n",
    "class BudgetedMAB:\n",
    "    def __init__(self, arms, budget):\n",
    "        self.arms = arms\n",
    "        self.nb_arms = len(arms)\n",
    "        self.initial_budget = budget\n",
    "\n",
    "    def play(self, algo):\n",
    "        budget = self.initial_budget\n",
    "        algo.start_game()\n",
    "        result = ResultBudgetedMAB()\n",
    "        \n",
    "        while budget >= 0:\n",
    "            choice = algo.choice()\n",
    "            reward, cost = self.arms[choice].draw()\n",
    "            algo.get_reward(choice, reward, cost)\n",
    "            budget -= cost\n",
    "            if budget >= 0:\n",
    "                result.store(self.arms[choice].expectation, self.arms[choice].cost)\n",
    "            \n",
    "        return result"
   ]
  },
  {
   "cell_type": "code",
   "execution_count": 6,
   "metadata": {},
   "outputs": [],
   "source": [
    "class EvaluationBudgetedMAB:\n",
    "    def __init__(self, env, algo, nb_repetitions):\n",
    "        self.env = env\n",
    "        self.nb_repetitions = nb_repetitions\n",
    "        self.cum_reward = [[] for _ in range(self.nb_repetitions)]\n",
    "\n",
    "        for k in range(nb_repetitions):\n",
    "            if nb_repetitions < 10 or k % (nb_repetitions / 10) == 0:\n",
    "                print(k)\n",
    "            result = env.play(algo)\n",
    "            self.cum_reward[k] = np.cumsum(result.rewards)\n",
    "    \n",
    "    def mean_reward(self):\n",
    "        return np.mean([self.cum_reward[k][-1] for k in range(self.nb_repetitions)])\n",
    "    \n",
    "    def mean_regret(self):\n",
    "        oracle = self.env.initial_budget * np.max([arm.expectation / arm.cost for arm in self.env.arms])\n",
    "        temp = np.array([self.cum_reward[k][-1] for k in range(self.nb_repetitions)])\n",
    "        return oracle - np.mean(temp), np.std(oracle - temp)"
   ]
  },
  {
   "cell_type": "code",
   "execution_count": 7,
   "metadata": {},
   "outputs": [],
   "source": [
    "class EvaluationBayesBudgetedMAB:\n",
    "    def __init__(self, envs, algo):\n",
    "        self.nb_repetitions = len(envs)\n",
    "        self.cum_reward = np.zeros(self.nb_repetitions)\n",
    "        self.oracle = np.zeros(self.nb_repetitions)\n",
    "\n",
    "        for k in range(self.nb_repetitions):\n",
    "            if self.nb_repetitions < 10 or k % (self.nb_repetitions / 10) == 0:\n",
    "                print(k)\n",
    "                \n",
    "            result = envs[k].play(algo)\n",
    "            self.cum_reward[k] = np.cumsum(result.rewards)[-1]\n",
    "            self.oracle[k] = envs[k].initial_budget * np.max([arm.expectation / arm.cost for arm in envs[k].arms])\n",
    "            \n",
    "    def mean_final_regret(self):\n",
    "        temp = self.oracle - self.cum_reward\n",
    "        return np.mean(temp), np.std(temp)"
   ]
  },
  {
   "cell_type": "markdown",
   "metadata": {},
   "source": [
    "## Algorithms"
   ]
  },
  {
   "cell_type": "code",
   "execution_count": 8,
   "metadata": {},
   "outputs": [],
   "source": [
    "class BTS:\n",
    "    \"\"\"\n",
    "        Ref: Thompson sampling for budgeted multi-armed bandits. Xia, Y., Li, H., Qin, T., Yu, N., & Liu, T. Y. (2015).\n",
    "    \"\"\"\n",
    "    \n",
    "    def __init__(self, nb_arms, posterior):\n",
    "        self.nb_arms = nb_arms\n",
    "        self.posterior_means = dict()\n",
    "        self.posterior_costs = dict()\n",
    "        for arm in range(self.nb_arms):\n",
    "            self.posterior_means[arm] = posterior()\n",
    "            self.posterior_costs[arm] = posterior()\n",
    "\n",
    "    def start_game(self):\n",
    "        for arm in range(self.nb_arms):\n",
    "            self.posterior_means[arm].reset()\n",
    "            self.posterior_costs[arm].reset()\n",
    "        \n",
    "    def choice(self):\n",
    "        index = [self.posterior_means[arm].sample() / self.posterior_costs[arm].sample() for arm in range(self.nb_arms)]\n",
    "        return np.random.choice(np.flatnonzero(index == np.amax(index)))\n",
    "    \n",
    "    def get_reward(self, arm, reward, cost):\n",
    "        self.posterior_means[arm].update(reward)\n",
    "        self.posterior_costs[arm].update(cost)"
   ]
  },
  {
   "cell_type": "code",
   "execution_count": 9,
   "metadata": {},
   "outputs": [],
   "source": [
    "class TS:\n",
    "    def __init__(self, nb_arms, posterior):\n",
    "        self.nb_arms = nb_arms\n",
    "        self.posterior_means = dict()\n",
    "        for arm in range(self.nb_arms):\n",
    "            self.posterior_means[arm] = posterior()\n",
    "\n",
    "    def start_game(self):\n",
    "        for arm in range(self.nb_arms):\n",
    "            self.posterior_means[arm].reset()\n",
    "        \n",
    "    def choice(self):\n",
    "        index = [self.posterior_means[arm].sample() for arm in range(self.nb_arms)]\n",
    "        return np.random.choice(np.flatnonzero(index == np.amax(index)))\n",
    "    \n",
    "    def get_reward(self, arm, reward, cost):\n",
    "        self.posterior_means[arm].update(reward)"
   ]
  },
  {
   "cell_type": "code",
   "execution_count": 10,
   "metadata": {},
   "outputs": [],
   "source": [
    "class BGreedy:\n",
    "    def __init__(self, nb_arms):\n",
    "        self.nb_arms = nb_arms\n",
    "\n",
    "    def start_game(self):\n",
    "        self.t = 1\n",
    "        self.means = np.zeros(self.nb_arms)\n",
    "        self.nb_draws = np.zeros(self.nb_arms)\n",
    "        self.costs = np.zeros(self.nb_arms)\n",
    "        \n",
    "    def choice(self):\n",
    "        if self.t <= self.nb_arms:\n",
    "            return self.t - 1\n",
    "        index = self.means / (self.costs + 1e-9)\n",
    "        return np.random.choice(np.flatnonzero(index == np.amax(index)))\n",
    "    \n",
    "    def get_reward(self, arm, reward, cost):\n",
    "        self.t += 1\n",
    "        self.means[arm] = ((self.nb_draws[arm] * self.means[arm] + reward) / (self.nb_draws[arm] + 1))\n",
    "        self.costs[arm] = ((self.nb_draws[arm] * self.costs[arm] + cost) / (self.nb_draws[arm] + 1))\n",
    "        self.nb_draws[arm] += 1"
   ]
  },
  {
   "cell_type": "code",
   "execution_count": 11,
   "metadata": {},
   "outputs": [],
   "source": [
    "class BudgetUCB:\n",
    "    \"\"\"\n",
    "        Ref: Budgeted bandit problems with continuous random costs. Xia, Y., Ding, W., Zhang, X. D., Yu, N., & Qin, T. (2016).\n",
    "    \"\"\"\n",
    "    \n",
    "    def __init__(self, nb_arms, lambd=1e-5):\n",
    "        self.nb_arms = nb_arms\n",
    "        self.lambd = lambd\n",
    "\n",
    "    def start_game(self):\n",
    "        self.t = 1\n",
    "        self.means = np.zeros(self.nb_arms)\n",
    "        self.nb_draws = np.zeros(self.nb_arms)\n",
    "        self.costs = np.zeros(self.nb_arms)\n",
    "        \n",
    "    def choice(self):\n",
    "        if self.t <= self.nb_arms:\n",
    "            return self.t - 1\n",
    "        epsilon = np.sqrt(2 * np.log(self.t) / self.nb_draws)\n",
    "        index = ((self.means + epsilon * \n",
    "                  (1 + np.minimum(self.means + epsilon, 1) / np.maximum(self.costs - epsilon, self.lambd))) \n",
    "                 / (self.costs + 1e-9))\n",
    "        return np.random.choice(np.flatnonzero(index == np.amax(index)))\n",
    "    \n",
    "    def get_reward(self, arm, reward, cost):\n",
    "        self.t += 1\n",
    "        self.means[arm] = ((self.nb_draws[arm] * self.means[arm] + reward) / (self.nb_draws[arm] + 1))\n",
    "        self.costs[arm] = ((self.nb_draws[arm] * self.costs[arm] + cost) / (self.nb_draws[arm] + 1))\n",
    "        self.nb_draws[arm] += 1"
   ]
  },
  {
   "cell_type": "code",
   "execution_count": 12,
   "metadata": {},
   "outputs": [],
   "source": [
    "class UCB:\n",
    "    def __init__(self, nb_arms):\n",
    "        self.nb_arms = nb_arms\n",
    "\n",
    "    def start_game(self):\n",
    "        self.t = 1\n",
    "        self.cum_reward = np.zeros(self.nb_arms)\n",
    "        self.nb_draws = np.zeros(self.nb_arms)\n",
    "        \n",
    "    def choice(self):\n",
    "        if self.t <= self.nb_arms:\n",
    "            return self.t - 1\n",
    "        \n",
    "        index = self.cum_reward / self.nb_draws + np.sqrt(2 * np.log(self.t) / self.nb_draws)\n",
    "        return np.random.choice(np.flatnonzero(index == np.amax(index)))\n",
    "    \n",
    "    def get_reward(self, arm, reward, cost):\n",
    "        self.t += 1\n",
    "        self.cum_reward[arm] += reward\n",
    "        self.nb_draws[arm] += 1"
   ]
  },
  {
   "cell_type": "markdown",
   "metadata": {},
   "source": [
    "## Experimental setup"
   ]
  },
  {
   "cell_type": "code",
   "execution_count": 13,
   "metadata": {},
   "outputs": [],
   "source": [
    "np.random.seed(1234)\n",
    "\n",
    "nb_rep = 10\n",
    "scenario = 2\n",
    "\n",
    "if scenario == 0:\n",
    "    # Test\n",
    "    K = 2\n",
    "    budget = 100\n",
    "    means = np.array([0.8, 0.5])\n",
    "    costs = np.array([0.8, 0.15])\n",
    "    arms = [Bernoulli(means[arm], costs[arm]) for arm in range(K)]\n",
    "    env = BudgetedMAB(arms, budget)\n",
    "        \n",
    "elif scenario == 1:\n",
    "    # Discrete\n",
    "    K = 100\n",
    "    budget = 1000\n",
    "    means = np.random.random(K)\n",
    "    costs = np.random.random(K)\n",
    "    arms = [Bernoulli(means[arm], costs[arm]) for arm in range(K)]\n",
    "    env = BudgetedMAB(arms, budget)\n",
    "        \n",
    "elif scenario == 2:\n",
    "    # Continuous\n",
    "    K = 100\n",
    "    budget = 1000\n",
    "    rewards_a = 4 * np.random.random(K) + 1\n",
    "    rewards_b = 4 * np.random.random(K) + 1\n",
    "    costs_a = 4 * np.random.random(K) + 1\n",
    "    costs_b = 4 * np.random.random(K) + 1\n",
    "    arms = [Beta(rewards_a[arm], rewards_b[arm], costs_a[arm], costs_b[arm]) for arm in range(K)]\n",
    "    env = BudgetedMAB(arms, budget)"
   ]
  },
  {
   "cell_type": "markdown",
   "metadata": {},
   "source": [
    "## Compare various algorithms"
   ]
  },
  {
   "cell_type": "code",
   "execution_count": 14,
   "metadata": {},
   "outputs": [],
   "source": [
    "algorithms = [BTS(K, BetaPosterior),\n",
    "              BudgetUCB(K),\n",
    "              BGreedy(K)]"
   ]
  },
  {
   "cell_type": "code",
   "execution_count": 15,
   "metadata": {},
   "outputs": [
    {
     "name": "stdout",
     "output_type": "stream",
     "text": [
      "Start evaluation BTS\n",
      "0\n",
      "1\n",
      "2\n",
      "3\n",
      "4\n",
      "5\n",
      "6\n",
      "7\n",
      "8\n",
      "9\n",
      "Regret of BTS :  1468.2061659380527 +- 72.07326379178045 obtained in 18.376203536987305 seconds \n",
      "\n",
      "Start evaluation BudgetUCB\n",
      "0\n",
      "1\n",
      "2\n",
      "3\n",
      "4\n",
      "5\n",
      "6\n",
      "7\n",
      "8\n",
      "9\n",
      "Regret of BudgetUCB :  1949.5365984876405 +- 12.776577710054523 obtained in 3.656783103942871 seconds \n",
      "\n",
      "Start evaluation BGreedy\n",
      "0\n",
      "1\n",
      "2\n",
      "3\n",
      "4\n",
      "5\n",
      "6\n",
      "7\n",
      "8\n",
      "9\n",
      "Regret of BGreedy :  164.59208675114724 +- 171.7471463391528 obtained in 5.681986570358276 seconds \n",
      "\n"
     ]
    }
   ],
   "source": [
    "for algo in algorithms:\n",
    "    print('Start evaluation', algo.__class__.__name__)\n",
    "    start_time = time.time()\n",
    "    ev = EvaluationBudgetedMAB(env, algo, nb_rep)\n",
    "    res, std = ev.mean_regret()\n",
    "    print('Regret of', algo.__class__.__name__, ': ', res, '+-', std, \n",
    "          'obtained in', time.time() - start_time, 'seconds \\n')"
   ]
  },
  {
   "cell_type": "code",
   "execution_count": null,
   "metadata": {},
   "outputs": [],
   "source": []
  }
 ],
 "metadata": {
  "kernelspec": {
   "display_name": "Python 3",
   "language": "python",
   "name": "python3"
  },
  "language_info": {
   "codemirror_mode": {
    "name": "ipython",
    "version": 3
   },
   "file_extension": ".py",
   "mimetype": "text/x-python",
   "name": "python",
   "nbconvert_exporter": "python",
   "pygments_lexer": "ipython3",
   "version": "3.8.3"
  }
 },
 "nbformat": 4,
 "nbformat_minor": 2
}
