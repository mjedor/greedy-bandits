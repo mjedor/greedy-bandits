{
 "cells": [
  {
   "cell_type": "markdown",
   "metadata": {},
   "source": [
    "# Mortal bandits"
   ]
  },
  {
   "cell_type": "markdown",
   "metadata": {},
   "source": [
    "## Import libraries"
   ]
  },
  {
   "cell_type": "code",
   "execution_count": 1,
   "metadata": {},
   "outputs": [],
   "source": [
    "import numpy as np\n",
    "import random\n",
    "import matplotlib.pyplot as plt\n",
    "from copy import deepcopy\n",
    "\n",
    "import time"
   ]
  },
  {
   "cell_type": "code",
   "execution_count": 2,
   "metadata": {},
   "outputs": [],
   "source": [
    "from posterior.Beta import Beta as BetaPosterior"
   ]
  },
  {
   "cell_type": "markdown",
   "metadata": {},
   "source": [
    "## Define environment"
   ]
  },
  {
   "cell_type": "code",
   "execution_count": 3,
   "metadata": {},
   "outputs": [],
   "source": [
    "class BernoulliMortal:\n",
    "    \"\"\" Bernoulli distributed arm \"\"\"\n",
    "\n",
    "    def __init__(self, p, arrival=0, lifetime=np.inf):\n",
    "        self.p = p\n",
    "        self.expectation = p\n",
    "        self.arrival = arrival\n",
    "        self.lifetime = lifetime\n",
    "        \n",
    "    def update(self, p, arrival, lifetime):\n",
    "        self.p = p\n",
    "        self.expectation = p\n",
    "        self.arrival = arrival\n",
    "        self.lifetime = lifetime\n",
    "        \n",
    "    def draw(self):\n",
    "        return float(random.random() < self.p)"
   ]
  },
  {
   "cell_type": "code",
   "execution_count": 4,
   "metadata": {},
   "outputs": [],
   "source": [
    "class UniformReward:\n",
    "    def draw(self):\n",
    "        return np.random.rand()\n",
    "    \n",
    "    \n",
    "class BetaReward:\n",
    "    def __init__(self, alpha, beta):\n",
    "        self.alpha = alpha\n",
    "        self.beta = beta\n",
    "        \n",
    "    def draw(self):\n",
    "        return np.random.beta(self.alpha, self.beta)\n",
    "\n",
    "    \n",
    "class GeometricLifetime:\n",
    "    def __init__(self, expected_lifetime):\n",
    "        self.expected_lifetime = expected_lifetime\n",
    "        \n",
    "    def draw(self):\n",
    "        return np.random.geometric(p=1/self.expected_lifetime)"
   ]
  },
  {
   "cell_type": "code",
   "execution_count": 5,
   "metadata": {},
   "outputs": [],
   "source": [
    "class ResultMortalMAB:\n",
    "    def __init__(self, horizon):\n",
    "        self.rewards = np.zeros(horizon)\n",
    "        self.oracle = np.zeros(horizon)\n",
    "\n",
    "    def store(self, t, reward, best_reward):\n",
    "        self.rewards[t] = reward\n",
    "        self.oracle[t] = best_reward\n",
    "\n",
    "    \n",
    "class MortalMAB:\n",
    "    def __init__(self, arms, prior_arm, prior_lifetime):\n",
    "        self.arms = arms\n",
    "        self.nb_arms = len(arms)\n",
    "        self.prior_arm = prior_arm\n",
    "        self.prior_lifetime = prior_lifetime\n",
    "\n",
    "    def play(self, policy, horizon):\n",
    "        policy.start_game()\n",
    "        result = ResultMortalMAB(horizon)\n",
    "        \n",
    "        for t in range(horizon):\n",
    "            # Check dead arms\n",
    "            for arm in range(self.nb_arms):\n",
    "                if self.arms[arm].arrival + self.arms[arm].lifetime == t:\n",
    "                    # Update env\n",
    "                    self.arms[arm].update(self.prior_arm.draw(), t, self.prior_lifetime.draw())\n",
    "                    # Update policy\n",
    "                    policy.new_arm_died(arm)\n",
    "            \n",
    "            choice = policy.choice()\n",
    "            reward = self.arms[choice].draw()\n",
    "            policy.get_reward(choice, reward)\n",
    "            result.store(t, self.arms[choice].expectation, max([arm.expectation for arm in self.arms]))\n",
    "            \n",
    "        return result "
   ]
  },
  {
   "cell_type": "code",
   "execution_count": 6,
   "metadata": {},
   "outputs": [],
   "source": [
    "class EvaluationMortalMAB:\n",
    "    def __init__(self, envs, pol, horizon, tsav=[]):\n",
    "        if len(tsav) > 0:\n",
    "            self.tsav = tsav\n",
    "        else:\n",
    "            self.tsav = np.arange(horizon)\n",
    "        self.nb_repetitions = len(envs)\n",
    "        self.cum_reward = np.zeros((self.nb_repetitions, len(self.tsav)))\n",
    "        self.oracle = np.zeros((self.nb_repetitions, len(self.tsav)))\n",
    "\n",
    "        for k in range(self.nb_repetitions):\n",
    "            if self.nb_repetitions < 10 or k % (self.nb_repetitions / 10) == 0:\n",
    "                print(k)\n",
    "            env = deepcopy(envs[k])\n",
    "            result = env.play(pol, horizon)\n",
    "            self.cum_reward[k, :] = np.cumsum(result.rewards)[self.tsav]\n",
    "            self.oracle[k, :] = np.cumsum(result.oracle)[self.tsav]\n",
    "\n",
    "    def std_regret(self):\n",
    "        return np.std(self.oracle - self.cum_reward, 0)\n",
    "\n",
    "    def mean_regret(self):\n",
    "        return np.mean(self.oracle, 0) - np.mean(self.cum_reward, 0)"
   ]
  },
  {
   "cell_type": "markdown",
   "metadata": {},
   "source": [
    "## Algorithms"
   ]
  },
  {
   "cell_type": "code",
   "execution_count": 7,
   "metadata": {},
   "outputs": [],
   "source": [
    "class UCB:\n",
    "    def __init__(self, nb_arms, gamma=1.):\n",
    "        self.nb_arms = nb_arms\n",
    "        self.gamma = gamma\n",
    "\n",
    "    def start_game(self):\n",
    "        self.t = 1\n",
    "        self.nb_draws = np.zeros(self.nb_arms)\n",
    "        self.cum_reward = np.zeros(self.nb_arms)\n",
    "        self.arrival = np.zeros(self.nb_arms)\n",
    "        \n",
    "    def new_arm_died(self, arm):\n",
    "        self.nb_draws[arm] = 0\n",
    "        self.cum_reward[arm] = 0\n",
    "        self.arrival[arm] = self.t - 1\n",
    "\n",
    "    def choice(self):\n",
    "        \"\"\" In an index policy, choose at random an arm with maximal index \"\"\"\n",
    "\n",
    "        for arm in range(self.nb_arms):\n",
    "            if self.nb_draws[arm] == 0:\n",
    "                return arm\n",
    "\n",
    "        index = self.cum_reward / self.nb_draws + self.gamma * np.sqrt(2 * np.log(self.t - self.arrival) / self.nb_draws)\n",
    "        return np.random.choice(np.flatnonzero(index == np.amax(index)))\n",
    "    \n",
    "    def get_reward(self, arm, reward):\n",
    "        self.nb_draws[arm] += 1\n",
    "        self.cum_reward[arm] += reward\n",
    "        self.t += 1"
   ]
  },
  {
   "cell_type": "code",
   "execution_count": 10,
   "metadata": {},
   "outputs": [],
   "source": [
    "from algorithm.kullback import klucb_bern\n",
    "\n",
    "\n",
    "class KLUCB:\n",
    "    def __init__(self, nb_arms, klucb=klucb_bern, c=3):\n",
    "        self.nb_arms = nb_arms\n",
    "        self.klucb = klucb\n",
    "        self.c = c\n",
    "\n",
    "    def start_game(self):\n",
    "        self.t = 1\n",
    "        self.nb_draws = np.zeros(self.nb_arms)\n",
    "        self.cum_reward = np.zeros(self.nb_arms)\n",
    "        self.arrival = np.zeros(self.nb_arms)\n",
    "        \n",
    "    def new_arm_died(self, arm):\n",
    "        self.nb_draws[arm] = 0\n",
    "        self.cum_reward[arm] = 0\n",
    "        self.arrival[arm] = self.t - 1\n",
    "        \n",
    "    def compute_index(self, arm):\n",
    "        return self.klucb(self.cum_reward[arm] / self.nb_draws[arm], \n",
    "                          (np.log(self.t-self.arrival[arm]+1) + \n",
    "                           self.c*np.log(np.log(self.t-self.arrival[arm]+1))) / self.nb_draws[arm], 1e-4)\n",
    "\n",
    "    def choice(self):\n",
    "        \"\"\" In an index policy, choose at random an arm with maximal index \"\"\"\n",
    "\n",
    "        for arm in range(self.nb_arms):\n",
    "            if self.nb_draws[arm] == 0:\n",
    "                return arm\n",
    "\n",
    "        index = np.array([self.compute_index(arm) for arm in range(self.nb_arms)])\n",
    "        return np.random.choice(np.flatnonzero(index == np.amax(index)))\n",
    "    \n",
    "    def get_reward(self, arm, reward):\n",
    "        self.nb_draws[arm] += 1\n",
    "        self.cum_reward[arm] += reward\n",
    "        self.t += 1"
   ]
  },
  {
   "cell_type": "code",
   "execution_count": 11,
   "metadata": {},
   "outputs": [],
   "source": [
    "class TS:\n",
    "    def __init__(self, nb_arms, posterior):\n",
    "        self.nb_arms = nb_arms\n",
    "        self.posterior = dict()\n",
    "        for arm in range(self.nb_arms):\n",
    "            self.posterior[arm] = posterior()\n",
    "\n",
    "    def start_game(self):\n",
    "        for arm in range(self.nb_arms):\n",
    "            self.posterior[arm].reset()\n",
    "        \n",
    "    def new_arm_died(self, arm):\n",
    "        self.posterior[arm].reset()\n",
    "\n",
    "    def choice(self):\n",
    "        \"\"\" In an index policy, choose at random an arm with maximal index \"\"\"\n",
    "\n",
    "        index = [self.posterior[arm].sample() for arm in range(self.nb_arms)]\n",
    "        return np.random.choice(np.flatnonzero(index == np.amax(index)))\n",
    "    \n",
    "    def get_reward(self, arm, reward):\n",
    "        self.posterior[arm].update(reward)"
   ]
  },
  {
   "cell_type": "code",
   "execution_count": 12,
   "metadata": {},
   "outputs": [],
   "source": [
    "class Greedy(UCB):\n",
    "    def choice(self):\n",
    "        for arm in range(self.nb_arms):\n",
    "            if self.nb_draws[arm] == 0:\n",
    "                return arm\n",
    "\n",
    "        index = self.cum_reward / self.nb_draws\n",
    "        return np.random.choice(np.flatnonzero(index == np.amax(index)))"
   ]
  },
  {
   "cell_type": "code",
   "execution_count": 13,
   "metadata": {},
   "outputs": [],
   "source": [
    "class AG(UCB):\n",
    "    def __init__(self, nb_arms, c=1):\n",
    "        self.nb_arms = nb_arms\n",
    "        self.c = c\n",
    "        \n",
    "    def choice(self):\n",
    "        for arm in range(self.nb_arms):\n",
    "            if self.nb_draws[arm] == 0:\n",
    "                return arm\n",
    "\n",
    "        index = self.cum_reward / self.nb_draws\n",
    "        ind_max = np.random.choice(np.flatnonzero(index == np.amax(index)))\n",
    "        \n",
    "        if np.random.rand() <= min(1, self.c * index[ind_max]):\n",
    "            return ind_max\n",
    "        else:\n",
    "            return np.random.choice(self.nb_arms)"
   ]
  },
  {
   "cell_type": "markdown",
   "metadata": {},
   "source": [
    "## Experimental setup"
   ]
  },
  {
   "cell_type": "code",
   "execution_count": 14,
   "metadata": {},
   "outputs": [],
   "source": [
    "np.random.seed(1234)\n",
    "\n",
    "nb_rep = 10\n",
    "expected_lifetime = 1000\n",
    "horizon = 10 * expected_lifetime\n",
    "scenario = 1\n",
    "K = 100\n",
    "tsav = []\n",
    "\n",
    "if scenario == 0:\n",
    "    # Uniform\n",
    "    prior_arm = UniformReward()\n",
    "    prior_lifetime = GeometricLifetime(expected_lifetime)\n",
    "    envs = []\n",
    "    for _ in range(nb_rep):\n",
    "        arms = [BernoulliMortal(prior_arm.draw(), arrival=0, lifetime=prior_lifetime.draw()) for _ in range(K)]\n",
    "        envs += [MortalMAB(arms, prior_arm, prior_lifetime)]\n",
    "\n",
    "elif scenario == 1:\n",
    "    # Beta\n",
    "    prior_arm = BetaReward(1, 3)\n",
    "    prior_lifetime = GeometricLifetime(expected_lifetime)\n",
    "    envs = []\n",
    "    for _ in range(nb_rep):\n",
    "        arms = [BernoulliMortal(prior_arm.draw(), arrival=0, lifetime=prior_lifetime.draw()) for _ in range(K)]\n",
    "        envs += [MortalMAB(arms, prior_arm, prior_lifetime)]"
   ]
  },
  {
   "cell_type": "markdown",
   "metadata": {},
   "source": [
    "## Compare various algorithms"
   ]
  },
  {
   "cell_type": "code",
   "execution_count": 15,
   "metadata": {},
   "outputs": [],
   "source": [
    "algorithms = [#UCB(K, gamma=0.5),\n",
    "              #KLUCB(K),\n",
    "              TS(K, BetaPosterior),\n",
    "              Greedy(K)]\n",
    "              #AG(K, c=2)]"
   ]
  },
  {
   "cell_type": "code",
   "execution_count": 16,
   "metadata": {},
   "outputs": [
    {
     "name": "stdout",
     "output_type": "stream",
     "text": [
      "Start evaluation TS\n",
      "0\n",
      "1\n",
      "2\n",
      "3\n",
      "4\n",
      "5\n",
      "6\n",
      "7\n",
      "8\n",
      "9\n",
      "Regret of TS : 2758.6266292905184 +- 110.36423639458403 \n",
      "\n",
      "Start evaluation Greedy\n",
      "0\n",
      "1\n",
      "2\n",
      "3\n",
      "4\n",
      "5\n",
      "6\n",
      "7\n",
      "8\n",
      "9\n",
      "Regret of Greedy : 1202.070006092159 +- 183.14117389908952 \n",
      "\n"
     ]
    },
    {
     "data": {
      "image/png": "[encoded data removed]",
      "text/plain": [
       "<Figure size 432x288 with 1 Axes>"
      ]
     },
     "metadata": {
      "needs_background": "light"
     },
     "output_type": "display_data"
    },
    {
     "name": "stdout",
     "output_type": "stream",
     "text": [
      "--- 59.31836700439453 seconds ---\n"
     ]
    }
   ],
   "source": [
    "plt.figure()\n",
    "start_time = time.time()\n",
    "for algo in algorithms:\n",
    "    print('Start evaluation', algo.__class__.__name__)\n",
    "    \n",
    "    ev = EvaluationMortalMAB(envs, algo, horizon)\n",
    "    \n",
    "    mean_regret = ev.mean_regret()\n",
    "    std_regret = ev.std_regret() \n",
    "    print('Regret of', algo.__class__.__name__, ':', mean_regret[-1], '+-', std_regret[-1], '\\n')\n",
    "    \n",
    "    plt.plot(np.arange(horizon), mean_regret)\n",
    "    #plt.fill_between(np.arange(nb_episodes * horizon), mean_regret-std_regret, mean_regret+std_regret, alpha=.2)\n",
    "    plt.xlabel('Time')\n",
    "    plt.ylabel('Regret')\n",
    "\n",
    "plt.legend([algo.__class__.__name__ for algo in algorithms], loc=0)\n",
    "plt.show()\n",
    "print(\"--- %s seconds ---\" % (time.time() - start_time))"
   ]
  },
  {
   "cell_type": "code",
   "execution_count": null,
   "metadata": {},
   "outputs": [],
   "source": []
  }
 ],
 "metadata": {
  "kernelspec": {
   "display_name": "Python 3",
   "language": "python",
   "name": "python3"
  },
  "language_info": {
   "codemirror_mode": {
    "name": "ipython",
    "version": 3
   },
   "file_extension": ".py",
   "mimetype": "text/x-python",
   "name": "python",
   "nbconvert_exporter": "python",
   "pygments_lexer": "ipython3",
   "version": "3.8.3"
  }
 },
 "nbformat": 4,
 "nbformat_minor": 2
}
