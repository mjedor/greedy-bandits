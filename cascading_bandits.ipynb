{
 "cells": [
  {
   "cell_type": "markdown",
   "metadata": {},
   "source": [
    "# Cascading bandits"
   ]
  },
  {
   "cell_type": "markdown",
   "metadata": {},
   "source": [
    "## Import libraries and modules"
   ]
  },
  {
   "cell_type": "code",
   "execution_count": 1,
   "metadata": {},
   "outputs": [],
   "source": [
    "import numpy as np\n",
    "import matplotlib.pyplot as plt\n",
    "import time\n",
    "import random"
   ]
  },
  {
   "cell_type": "code",
   "execution_count": 2,
   "metadata": {},
   "outputs": [],
   "source": [
    "from arm.Bernoulli import Bernoulli\n",
    "\n",
    "from posterior.Beta import Beta as BetaPosterior"
   ]
  },
  {
   "cell_type": "markdown",
   "metadata": {},
   "source": [
    "## Environment"
   ]
  },
  {
   "cell_type": "code",
   "execution_count": 3,
   "metadata": {},
   "outputs": [],
   "source": [
    "class ResultCascadeMAB:\n",
    "    def __init__(self, horizon):\n",
    "        self.rewards = np.zeros(horizon)\n",
    "\n",
    "    def store(self, t, reward):\n",
    "        self.rewards[t] = reward"
   ]
  },
  {
   "cell_type": "code",
   "execution_count": 4,
   "metadata": {},
   "outputs": [],
   "source": [
    "class CascadeMAB:\n",
    "    def __init__(self, arms, m):\n",
    "        self.arms = arms\n",
    "        self.m = m\n",
    "\n",
    "    def play(self, algo, horizon):\n",
    "        algo.start_game()\n",
    "        result = ResultCascadeMAB(horizon)\n",
    "        for t in range(horizon):\n",
    "            choices = algo.choice()\n",
    "            rewards = []\n",
    "            for arm in choices:\n",
    "                reward = self.arms[arm].draw()\n",
    "                rewards += [reward]\n",
    "                if reward == 1:\n",
    "                    break\n",
    "            expected_reward = 1 - np.prod([1 - self.arms[arm].expectation for arm in choices])\n",
    "\n",
    "            algo.get_reward(rewards)\n",
    "            result.store(t, expected_reward)\n",
    "        return result"
   ]
  },
  {
   "cell_type": "code",
   "execution_count": 5,
   "metadata": {},
   "outputs": [],
   "source": [
    "def optimization_oracle(means, m): \n",
    "    d = len(means)\n",
    "    ties = np.random.random(d)\n",
    "    \n",
    "    choices = np.lexsort((ties, means))[::-1][:m]\n",
    "    \n",
    "    return choices, 1-np.prod(1-means[choices])"
   ]
  },
  {
   "cell_type": "code",
   "execution_count": 6,
   "metadata": {},
   "outputs": [],
   "source": [
    "class EvaluationCascadeMAB:\n",
    "    def __init__(self, env, algo, nb_repetitions, horizon, tsav=[]):\n",
    "        if len(tsav) > 0:\n",
    "            self.tsav = tsav\n",
    "        else:\n",
    "            self.tsav = np.arange(horizon)\n",
    "            \n",
    "        self.env = env\n",
    "        self.nb_repetitions = nb_repetitions\n",
    "        self.cum_reward = np.zeros((nb_repetitions, len(self.tsav)))\n",
    "\n",
    "        for k in range(nb_repetitions):\n",
    "            if nb_repetitions < 10 or k % (nb_repetitions / 10) == 0:\n",
    "                print(k)\n",
    "            result = env.play(algo, horizon)\n",
    "            self.cum_reward[k, :] = np.cumsum(result.rewards)[self.tsav]\n",
    "\n",
    "    def std_regret(self):\n",
    "        d = len(self.env.arms)\n",
    "        means = np.zeros(d)\n",
    "        for i in range(d):\n",
    "            means[i] = self.env.arms[i].expectation\n",
    "        oracle = (1 + self.tsav) * optimization_oracle(means, self.env.m)[1]\n",
    "        return np.std(oracle - self.cum_reward, 0)\n",
    "\n",
    "    def mean_regret(self):\n",
    "        d = len(self.env.arms)\n",
    "        means = np.zeros(d)\n",
    "        for i in range(d):\n",
    "            means[i] = self.env.arms[i].expectation\n",
    "        oracle = optimization_oracle(means, self.env.m)[1]\n",
    "        return (1 + self.tsav) * oracle - np.mean(self.cum_reward, 0)"
   ]
  },
  {
   "cell_type": "code",
   "execution_count": 7,
   "metadata": {},
   "outputs": [],
   "source": [
    "class EvaluationBayesCascadeMAB:\n",
    "    def __init__(self, envs, algo, horizon, tsav=[]):\n",
    "        if len(tsav) > 0:\n",
    "            self.tsav = tsav\n",
    "        else:\n",
    "            self.tsav = np.arange(horizon)\n",
    "        self.nb_repetitions = len(envs)\n",
    "        self.cum_reward = np.zeros((self.nb_repetitions, len(self.tsav)))\n",
    "        self.oracle = np.zeros((self.nb_repetitions, len(self.tsav)))\n",
    "\n",
    "        for k in range(self.nb_repetitions):\n",
    "            if self.nb_repetitions < 10 or k % (self.nb_repetitions / 10) == 0:\n",
    "                print(k)\n",
    "                \n",
    "            result = envs[k].play(algo, horizon)\n",
    "            self.cum_reward[k, :] = np.cumsum(result.rewards)[self.tsav]\n",
    "            \n",
    "            d = len(envs[k].arms)\n",
    "            means = np.zeros(d)\n",
    "            for i in range(d):\n",
    "                means[i] = envs[k].arms[i].expectation\n",
    "            self.oracle[k, :] = (1 + self.tsav) * optimization_oracle(means, envs[k].m)[1]\n",
    "\n",
    "    def std_regret(self):\n",
    "        return np.std(self.oracle - self.cum_reward, 0)\n",
    "\n",
    "    def mean_regret(self):\n",
    "        return np.mean(self.oracle, 0) - np.mean(self.cum_reward, 0)"
   ]
  },
  {
   "cell_type": "markdown",
   "metadata": {},
   "source": [
    "## Algorithms"
   ]
  },
  {
   "cell_type": "code",
   "execution_count": 8,
   "metadata": {},
   "outputs": [],
   "source": [
    "class CascadeUCB1:\n",
    "    \"\"\"\n",
    "        Ref: Cascading bandits: Learning to rank in the cascade model. Kveton, B., Szepesvari, C., Wen, Z., & Ashkan, A. (2015).\n",
    "    \"\"\"\n",
    "    \n",
    "    def __init__(self, nb_arms, nb_selects, c=1.5):\n",
    "        self.nb_arms = nb_arms\n",
    "        self.nb_selects = nb_selects\n",
    "        self.c = c\n",
    "\n",
    "    def start_game(self):\n",
    "        self.t = 1\n",
    "        self.means = np.zeros(self.nb_arms)\n",
    "        self.nb_draws = np.ones(self.nb_arms)\n",
    "\n",
    "    def choice(self):\n",
    "        if self.t <= self.nb_arms:\n",
    "            choices = [self.t - 1]\n",
    "            temp = list(np.arange(self.nb_arms))\n",
    "            del temp[self.t-1]\n",
    "            choices += list(np.random.choice(temp, self.nb_selects-1, replace=False))\n",
    "            choices = np.array(choices)\n",
    "        else:\n",
    "            ucb_index = self.means + np.sqrt(self.c * np.log(self.t) / self.nb_draws)\n",
    "            choices = optimization_oracle(ucb_index, self.nb_selects)[0]\n",
    "        self.choices = choices\n",
    "        return choices\n",
    "        \n",
    "    def get_reward(self, rewards):\n",
    "        self.t += 1\n",
    "        for ind, reward in enumerate(rewards):\n",
    "            self.means[self.choices[ind]] = ((self.nb_draws[self.choices[ind]] * self.means[self.choices[ind]] \n",
    "                                              + reward) / (self.nb_draws[self.choices[ind]] + 1))\n",
    "            self.nb_draws[self.choices[ind]] += 1"
   ]
  },
  {
   "cell_type": "code",
   "execution_count": 11,
   "metadata": {},
   "outputs": [],
   "source": [
    "from algorithm.kullback import klucb_bern\n",
    "\n",
    "\n",
    "class CascadeKLUCB:\n",
    "    \"\"\"\n",
    "        Ref: Cascading bandits: Learning to rank in the cascade model. Kveton, B., Szepesvari, C., Wen, Z., & Ashkan, A. (2015).\n",
    "    \"\"\"\n",
    "    \n",
    "    def __init__(self, nb_arms, nb_selects, klucb=klucb_bern, c=3):\n",
    "        self.nb_arms = nb_arms\n",
    "        self.nb_selects = nb_selects\n",
    "        self.klucb = klucb\n",
    "        self.c = c\n",
    "\n",
    "    def start_game(self):\n",
    "        self.t = 1\n",
    "        self.means = np.zeros(self.nb_arms)\n",
    "        self.nb_draws = np.ones(self.nb_arms)\n",
    "        \n",
    "    def compute_index(self, arm):\n",
    "        return self.klucb(self.means[arm], (np.log(self.t)+self.c*np.log(np.log(self.t))) / self.nb_draws[arm], 1e-4)\n",
    "\n",
    "    def choice(self):\n",
    "        if self.t <= self.nb_arms:\n",
    "            choices = [self.t - 1]\n",
    "            temp = list(np.arange(self.nb_arms))\n",
    "            del temp[self.t-1]\n",
    "            choices += list(np.random.choice(temp, self.nb_selects-1, replace=False))\n",
    "            choices = np.array(choices)\n",
    "        else:\n",
    "            ucb_index = np.array([self.compute_index(arm) for arm in range(self.nb_arms)])\n",
    "            choices = optimization_oracle(ucb_index, self.nb_selects)[0]\n",
    "        self.choices = choices\n",
    "        return choices\n",
    "        \n",
    "    def get_reward(self, rewards):\n",
    "        self.t += 1\n",
    "        for ind, reward in enumerate(rewards):\n",
    "            self.means[self.choices[ind]] = ((self.nb_draws[self.choices[ind]] * self.means[self.choices[ind]] \n",
    "                                              + reward) / (self.nb_draws[self.choices[ind]] + 1))\n",
    "            self.nb_draws[self.choices[ind]] += 1"
   ]
  },
  {
   "cell_type": "code",
   "execution_count": 12,
   "metadata": {},
   "outputs": [],
   "source": [
    "class TSCascade:\n",
    "    \"\"\"\n",
    "        Ref: A thompson sampling algorithm for cascading bandits. Cheung, W. C., Tan, V., & Zhong, Z. (2019).\n",
    "    \"\"\"\n",
    "    \n",
    "    def __init__(self, nb_arms, nb_selects):\n",
    "        self.nb_arms = nb_arms\n",
    "        self.nb_selects = nb_selects\n",
    "\n",
    "    def start_game(self):\n",
    "        self.t = 1\n",
    "        self.means = np.zeros(self.nb_arms)\n",
    "        self.nb_draws = np.ones(self.nb_arms)\n",
    "\n",
    "    def choice(self):\n",
    "        z = np.random.normal()\n",
    "        var = self.means * (1 - self.means)\n",
    "        std = np.maximum(np.sqrt(var*np.log(self.t+1)/(self.nb_draws+1)), np.log(self.t+1)/(self.nb_draws+1))\n",
    "        index = self.means + z * std\n",
    "        choices = optimization_oracle(index, self.nb_selects)[0]\n",
    "        self.choices = choices\n",
    "        return choices\n",
    "        \n",
    "    def get_reward(self, rewards):\n",
    "        self.t += 1\n",
    "        for ind, reward in enumerate(rewards):\n",
    "            self.means[self.choices[ind]] = ((self.nb_draws[self.choices[ind]] * self.means[self.choices[ind]] \n",
    "                                              + reward) / (self.nb_draws[self.choices[ind]] + 1))\n",
    "            self.nb_draws[self.choices[ind]] += 1"
   ]
  },
  {
   "cell_type": "code",
   "execution_count": 13,
   "metadata": {},
   "outputs": [],
   "source": [
    "class CascadeGreedy(CascadeUCB1):\n",
    "    def choice(self):\n",
    "        if self.t <= self.nb_arms:\n",
    "            choices = [self.t - 1]\n",
    "            temp = list(np.arange(self.nb_arms))\n",
    "            del temp[self.t-1]\n",
    "            choices += list(np.random.choice(temp, self.nb_selects-1, replace=False))\n",
    "            choices = np.array(choices)\n",
    "        else:\n",
    "            index = self.means\n",
    "            choices = optimization_oracle(index, self.nb_selects)[0]\n",
    "        self.choices = choices\n",
    "        return choices"
   ]
  },
  {
   "cell_type": "markdown",
   "metadata": {},
   "source": [
    "## Experimental setup"
   ]
  },
  {
   "cell_type": "code",
   "execution_count": 15,
   "metadata": {},
   "outputs": [],
   "source": [
    "scenario = 2\n",
    "nb_rep = 10\n",
    "horizon = 10000"
   ]
  },
  {
   "cell_type": "code",
   "execution_count": 16,
   "metadata": {},
   "outputs": [],
   "source": [
    "np.random.seed(1234)\n",
    "\n",
    "if scenario == 0:\n",
    "    K = 16\n",
    "    m = 2\n",
    "    w1 = 0.2\n",
    "    delta = 0.15\n",
    "    means = [w1] * m + [w1-delta] * (K-m)\n",
    "    env = CascadeMAB([Bernoulli(p) for p in means], m)\n",
    "        \n",
    "elif scenario == 1:\n",
    "    K = 16\n",
    "    m = 8\n",
    "    envs = []\n",
    "    for _ in range(nb_rep):\n",
    "        means = np.random.beta(1, 1, K)\n",
    "        envs += [CascadeMAB([Bernoulli(p) for p in means], m)]\n",
    "    \n",
    "elif scenario == 2:\n",
    "    K = 64\n",
    "    m = 8\n",
    "    envs = []\n",
    "    for _ in range(nb_rep):\n",
    "        means = np.random.beta(1, 3, K)\n",
    "        envs += [CascadeMAB([Bernoulli(p) for p in means], m)]"
   ]
  },
  {
   "cell_type": "markdown",
   "metadata": {},
   "source": [
    "## Compare various algorithms"
   ]
  },
  {
   "cell_type": "code",
   "execution_count": 17,
   "metadata": {},
   "outputs": [],
   "source": [
    "algorithms = [CascadeKLUCB(K, m),\n",
    "              TSCascade(K, m),\n",
    "              CascadeGreedy(K, m)]"
   ]
  },
  {
   "cell_type": "code",
   "execution_count": 18,
   "metadata": {},
   "outputs": [
    {
     "name": "stdout",
     "output_type": "stream",
     "text": [
      "Start evaluation CascadeKLUCB\n",
      "0\n",
      "1\n",
      "2\n",
      "3\n",
      "4\n",
      "5\n",
      "6\n",
      "7\n",
      "8\n",
      "9\n",
      "Regret of CascadeKLUCB : 58.24396684871863 +- 20.482808729593753 \n",
      "\n",
      "Start evaluation TSCascade\n",
      "0\n",
      "1\n",
      "2\n",
      "3\n",
      "4\n",
      "5\n",
      "6\n",
      "7\n",
      "8\n",
      "9\n",
      "Regret of TSCascade : 82.07474330968762 +- 12.215950501276238 \n",
      "\n",
      "Start evaluation CascadeGreedy\n",
      "0\n",
      "1\n",
      "2\n",
      "3\n",
      "4\n",
      "5\n",
      "6\n",
      "7\n",
      "8\n",
      "9\n",
      "Regret of CascadeGreedy : 23.07134476248575 +- 20.69815201134079 \n",
      "\n"
     ]
    },
    {
     "data": {
      "image/png": "[encoded data removed]",
      "text/plain": [
       "<Figure size 432x288 with 1 Axes>"
      ]
     },
     "metadata": {
      "needs_background": "light"
     },
     "output_type": "display_data"
    },
    {
     "name": "stdout",
     "output_type": "stream",
     "text": [
      "--- 1013.1864140033722 seconds ---\n"
     ]
    }
   ],
   "source": [
    "start_time = time.time()\n",
    "\n",
    "plt.figure()\n",
    "\n",
    "for algo in algorithms:\n",
    "    print('Start evaluation', algo.__class__.__name__)\n",
    "    ev = EvaluationBayesCascadeMAB(envs, algo, horizon)\n",
    "    mean_regret = ev.mean_regret()\n",
    "    std_regret = ev.std_regret()\n",
    "    print('Regret of', algo.__class__.__name__, ':', mean_regret[-1], '+-', std_regret[-1], '\\n')\n",
    "    \n",
    "    plt.plot(np.arange(horizon), mean_regret)\n",
    "    #plt.fill_between(np.arange(horizon), mean_regret-std_regret, mean_regret+std_regret, alpha=.2)\n",
    "    plt.xlabel('Time')\n",
    "    plt.ylabel('Regret')\n",
    "\n",
    "plt.legend([algo.__class__.__name__ for algo in algorithms], loc=0)\n",
    "plt.show()\n",
    "\n",
    "print(\"--- %s seconds ---\" % (time.time() - start_time))"
   ]
  },
  {
   "cell_type": "code",
   "execution_count": null,
   "metadata": {},
   "outputs": [],
   "source": []
  }
 ],
 "metadata": {
  "kernelspec": {
   "display_name": "Python 3",
   "language": "python",
   "name": "python3"
  },
  "language_info": {
   "codemirror_mode": {
    "name": "ipython",
    "version": 3
   },
   "file_extension": ".py",
   "mimetype": "text/x-python",
   "name": "python",
   "nbconvert_exporter": "python",
   "pygments_lexer": "ipython3",
   "version": "3.8.3"
  }
 },
 "nbformat": 4,
 "nbformat_minor": 2
}
