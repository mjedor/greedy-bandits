{
 "cells": [
  {
   "cell_type": "markdown",
   "metadata": {},
   "source": [
    "# Bayesian multi-armed bandits"
   ]
  },
  {
   "cell_type": "markdown",
   "metadata": {},
   "source": [
    "## Import libraries and modules "
   ]
  },
  {
   "cell_type": "code",
   "execution_count": 1,
   "metadata": {},
   "outputs": [],
   "source": [
    "import numpy as np\n",
    "import matplotlib.pyplot as plt"
   ]
  },
  {
   "cell_type": "code",
   "execution_count": 2,
   "metadata": {},
   "outputs": [],
   "source": [
    "from arm.Bernoulli import Bernoulli\n",
    "from arm.Gaussian import Gaussian\n",
    "\n",
    "from algorithm.UCB import UCB\n",
    "from algorithm.Greedy import Greedy\n",
    "\n",
    "from environment.MAB import MAB\n",
    "from environment.BayesMAB import EvaluationBayesMAB"
   ]
  },
  {
   "cell_type": "markdown",
   "metadata": {},
   "source": [
    "## Experimental setup"
   ]
  },
  {
   "cell_type": "code",
   "execution_count": 3,
   "metadata": {},
   "outputs": [],
   "source": [
    "np.random.seed(1234)\n",
    "\n",
    "nb_rep = 100\n",
    "scenario = 1\n",
    "\n",
    "if scenario == 0:\n",
    "    # Bernoulli bandit problem with U([0, 1]) prior on mean rewards\n",
    "    K = 64\n",
    "    horizon = 1000\n",
    "    envs = []\n",
    "    for _ in range(nb_rep):\n",
    "        means = np.random.beta(1, 1, K)\n",
    "        envs += [MAB([Bernoulli(p) for p in means])]\n",
    "elif scenario == 1:\n",
    "    # Gaussian bandit problem with U([0, 1]) prior on mean rewards\n",
    "    K = 64\n",
    "    horizon = 1000\n",
    "    envs = []\n",
    "    for _ in range(nb_rep):\n",
    "        means = np.random.beta(1, 1, K)\n",
    "        envs += [MAB([Gaussian(p) for p in means])]"
   ]
  },
  {
   "cell_type": "markdown",
   "metadata": {},
   "source": [
    "## Evaluate various bandit algorithms"
   ]
  },
  {
   "cell_type": "code",
   "execution_count": 4,
   "metadata": {},
   "outputs": [],
   "source": [
    "algorithms = [UCB(K),\n",
    "              Greedy(K)]"
   ]
  },
  {
   "cell_type": "code",
   "execution_count": 5,
   "metadata": {},
   "outputs": [
    {
     "name": "stdout",
     "output_type": "stream",
     "text": [
      "Start evaluation of UCB\n",
      "0\n",
      "10\n",
      "20\n",
      "30\n",
      "40\n",
      "50\n",
      "60\n",
      "70\n",
      "80\n",
      "90\n",
      "Bayesian regret of UCB : 333.4560272914799 +- 33.33088765000985 \n",
      "\n",
      "Start evaluation of Greedy\n",
      "0\n",
      "10\n",
      "20\n",
      "30\n",
      "40\n",
      "50\n",
      "60\n",
      "70\n",
      "80\n",
      "90\n",
      "Bayesian regret of Greedy : 125.64973654668927 +- 57.68918036762294 \n",
      "\n"
     ]
    },
    {
     "data": {
      "image/png": "[encoded data removed]",
      "text/plain": [
       "<Figure size 432x288 with 1 Axes>"
      ]
     },
     "metadata": {
      "needs_background": "light"
     },
     "output_type": "display_data"
    }
   ],
   "source": [
    "plt.figure()\n",
    "\n",
    "for algo in algorithms:\n",
    "    print('Start evaluation of', algo.__class__.__name__)\n",
    "    ev = EvaluationBayesMAB(envs, algo, horizon)\n",
    "    mean_regret = ev.mean_regret()\n",
    "    std_regret = ev.std_regret()\n",
    "    print('Bayesian regret of', algo.__class__.__name__, ':', mean_regret[-1], '+-', std_regret[-1], '\\n')\n",
    "    \n",
    "    \n",
    "    plt.plot(ev.tsav, mean_regret)\n",
    "    #plt.fill_between(ev.tsav, mean_regret-std_regret, mean_regret+std_regret, alpha=.2)\n",
    "    plt.xlabel('Time')\n",
    "    plt.ylabel('Bayesian regret')\n",
    "\n",
    "plt.legend([algo.__class__.__name__ for algo in algorithms], loc=0)\n",
    "plt.show()"
   ]
  },
  {
   "cell_type": "code",
   "execution_count": null,
   "metadata": {},
   "outputs": [],
   "source": []
  }
 ],
 "metadata": {
  "kernelspec": {
   "display_name": "Python 3",
   "language": "python",
   "name": "python3"
  },
  "language_info": {
   "codemirror_mode": {
    "name": "ipython",
    "version": 3
   },
   "file_extension": ".py",
   "mimetype": "text/x-python",
   "name": "python",
   "nbconvert_exporter": "python",
   "pygments_lexer": "ipython3",
   "version": "3.8.3"
  }
 },
 "nbformat": 4,
 "nbformat_minor": 2
}
